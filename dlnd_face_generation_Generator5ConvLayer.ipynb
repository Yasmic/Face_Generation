{
  "nbformat": 4,
  "nbformat_minor": 0,
  "metadata": {
    "kernelspec": {
      "display_name": "Python 3",
      "language": "python",
      "name": "python3"
    },
    "language_info": {
      "codemirror_mode": {
        "name": "ipython",
        "version": 3
      },
      "file_extension": ".py",
      "mimetype": "text/x-python",
      "name": "python",
      "nbconvert_exporter": "python",
      "pygments_lexer": "ipython3",
      "version": "3.6.3"
    },
    "colab": {
      "name": "dlnd_face_generation.ipynb",
      "provenance": [],
      "include_colab_link": true
    }
  },
  "cells": [
    {
      "cell_type": "markdown",
      "metadata": {
        "id": "view-in-github",
        "colab_type": "text"
      },
      "source": [
        "<a href=\"https://colab.research.google.com/github/Yasmic/Face_Generation/blob/main/dlnd_face_generation_Generator5ConvLayer.ipynb\" target=\"_parent\"><img src=\"https://colab.research.google.com/assets/colab-badge.svg\" alt=\"Open In Colab\"/></a>"
      ]
    },
    {
      "cell_type": "markdown",
      "metadata": {
        "id": "-RaC9_xz1KAE"
      },
      "source": [
        "# Face Generation\n",
        "\n",
        "In this project, you'll define and train a DCGAN on a dataset of faces. Your goal is to get a generator network to generate *new* images of faces that look as realistic as possible!\n",
        "\n",
        "The project will be broken down into a series of tasks from **loading in data to defining and training adversarial networks**. At the end of the notebook, you'll be able to visualize the results of your trained Generator to see how it performs; your generated samples should look like fairly realistic faces with small amounts of noise.\n",
        "\n",
        "### Get the Data\n",
        "\n",
        "You'll be using the [CelebFaces Attributes Dataset (CelebA)](http://mmlab.ie.cuhk.edu.hk/projects/CelebA.html) to train your adversarial networks.\n",
        "\n",
        "This dataset is more complex than the number datasets (like MNIST or SVHN) you've been working with, and so, you should prepare to define deeper networks and train them for a longer time to get good results. It is suggested that you utilize a GPU for training.\n",
        "\n",
        "### Pre-processed Data\n",
        "\n",
        "Since the project's main focus is on building the GANs, we've done *some* of the pre-processing for you. Each of the CelebA images has been cropped to remove parts of the image that don't include a face, then resized down to 64x64x3 NumPy images. Some sample data is show below.\n",
        "\n",
        "<img src='https://github.com/Yasmic/Face_Generation/blob/main/assets/processed_face_data.png?raw=1' width=60% />\n",
        "\n",
        "> If you are working locally, you can download this data [by clicking here](https://s3.amazonaws.com/video.udacity-data.com/topher/2018/November/5be7eb6f_processed-celeba-small/processed-celeba-small.zip)\n",
        "\n",
        "This is a zip file that you'll need to extract in the home directory of this notebook for further loading and processing. After extracting the data, you should be left with a directory of data `processed_celeba_small/`"
      ]
    },
    {
      "cell_type": "code",
      "metadata": {
        "id": "1z7YpURr1KAL",
        "outputId": "5c930426-1d90-4120-a0e2-06e80045fa6d"
      },
      "source": [
        "# can comment out after executing\n",
        "!unzip processed_celeba_small.zip"
      ],
      "execution_count": null,
      "outputs": [
        {
          "output_type": "stream",
          "text": [
            "Archive:  processed_celeba_small.zip\n",
            "replace processed_celeba_small/.DS_Store? [y]es, [n]o, [A]ll, [N]one, [r]ename: ^C\n"
          ],
          "name": "stdout"
        }
      ]
    },
    {
      "cell_type": "code",
      "metadata": {
        "id": "_d6uCFLH1KAM"
      },
      "source": [
        "data_dir = 'processed_celeba_small/'\n",
        "\n",
        "\"\"\"\n",
        "DON'T MODIFY ANYTHING IN THIS CELL\n",
        "\"\"\"\n",
        "import pickle as pkl\n",
        "import matplotlib.pyplot as plt\n",
        "import numpy as np\n",
        "import problem_unittests as tests\n",
        "#import helper\n",
        "\n",
        "%matplotlib inline"
      ],
      "execution_count": null,
      "outputs": []
    },
    {
      "cell_type": "markdown",
      "metadata": {
        "id": "TaJlVy4e1KAN"
      },
      "source": [
        "## Visualize the CelebA Data\n",
        "\n",
        "The [CelebA](http://mmlab.ie.cuhk.edu.hk/projects/CelebA.html) dataset contains over 200,000 celebrity images with annotations. Since you're going to be generating faces, you won't need the annotations, you'll only need the images. Note that these are color images with [3 color channels (RGB)](https://en.wikipedia.org/wiki/Channel_(digital_image)#RGB_Images) each.\n",
        "\n",
        "### Pre-process and Load the Data\n",
        "\n",
        "Since the project's main focus is on building the GANs, we've done *some* of the pre-processing for you. Each of the CelebA images has been cropped to remove parts of the image that don't include a face, then resized down to 64x64x3 NumPy images. This *pre-processed* dataset is a smaller subset of the very large CelebA data.\n",
        "\n",
        "> There are a few other steps that you'll need to **transform** this data and create a **DataLoader**.\n",
        "\n",
        "#### Exercise: Complete the following `get_dataloader` function, such that it satisfies these requirements:\n",
        "\n",
        "* Your images should be square, Tensor images of size `image_size x image_size` in the x and y dimension.\n",
        "* Your function should return a DataLoader that shuffles and batches these Tensor images.\n",
        "\n",
        "#### ImageFolder\n",
        "\n",
        "To create a dataset given a directory of images, it's recommended that you use PyTorch's [ImageFolder](https://pytorch.org/docs/stable/torchvision/datasets.html#imagefolder) wrapper, with a root directory `processed_celeba_small/` and data transformation passed in."
      ]
    },
    {
      "cell_type": "code",
      "metadata": {
        "id": "imml_IW41KAO"
      },
      "source": [
        "# necessary imports\n",
        "import torch\n",
        "from torchvision import datasets\n",
        "from torchvision import transforms\n",
        "from torchvision import datasets, transforms"
      ],
      "execution_count": null,
      "outputs": []
    },
    {
      "cell_type": "code",
      "metadata": {
        "id": "I9W2lykb1KAO"
      },
      "source": [
        "batch_size = 128"
      ],
      "execution_count": null,
      "outputs": []
    },
    {
      "cell_type": "code",
      "metadata": {
        "id": "M8v2RHcs1KAO"
      },
      "source": [
        "def get_dataloader(batch_size, image_size, data_dir='processed_celeba_small/'):\n",
        "    \"\"\"\n",
        "    Batch the neural network data using DataLoader\n",
        "    :param batch_size: The size of each batch; the number of images in a batch\n",
        "    :param img_size: The square size of the image data (x, y)\n",
        "    :param data_dir: Directory where image data is located\n",
        "    :return: DataLoader with batched data\n",
        "    \"\"\"\n",
        "    # make sure the SHUFFLE your training data\n",
        "    transform = transforms.Compose([transforms.Resize(image_size),\n",
        "                                   transforms.ToTensor()])\n",
        "    data = datasets.ImageFolder(data_dir, transform=transform)\n",
        "    data_loader = torch.utils.data.DataLoader(data,\n",
        "                                          batch_size=batch_size,\n",
        "                                          shuffle=True)\n",
        "    \n",
        "    # TODO: Implement function and return a dataloader\n",
        "\n",
        "    \n",
        "    return data_loader\n"
      ],
      "execution_count": null,
      "outputs": []
    },
    {
      "cell_type": "markdown",
      "metadata": {
        "id": "xJ697wg91KAP"
      },
      "source": [
        "## Create a DataLoader\n",
        "\n",
        "#### Exercise: Create a DataLoader `celeba_train_loader` with appropriate hyperparameters.\n",
        "\n",
        "Call the above function and create a dataloader to view images. \n",
        "* You can decide on any reasonable `batch_size` parameter\n",
        "* Your `image_size` **must be** `32`. Resizing the data to a smaller size will make for faster training, while still creating convincing images of faces!"
      ]
    },
    {
      "cell_type": "code",
      "metadata": {
        "id": "2vk6xKRk1KAP"
      },
      "source": [
        "# Define function hyperparameters\n",
        "batch_size = 128\n",
        "img_size = 32\n",
        "\n",
        "\"\"\"\n",
        "DON'T MODIFY ANYTHING IN THIS CELL THAT IS BELOW THIS LINE\n",
        "\"\"\"\n",
        "# Call your function and get a dataloader\n",
        "celeba_train_loader = get_dataloader(batch_size, img_size)\n"
      ],
      "execution_count": null,
      "outputs": []
    },
    {
      "cell_type": "markdown",
      "metadata": {
        "id": "XQ7PZaFd1KAP"
      },
      "source": [
        "Next, you can view some images! You should seen square images of somewhat-centered faces.\n",
        "\n",
        "Note: You'll need to convert the Tensor images into a NumPy type and transpose the dimensions to correctly display an image, suggested `imshow` code is below, but it may not be perfect."
      ]
    },
    {
      "cell_type": "code",
      "metadata": {
        "id": "zxc_CIet1KAQ",
        "outputId": "2e5bb7ba-7ee4-4ff1-8d65-53abdb550415"
      },
      "source": [
        "# helper display function\n",
        "def imshow(img):\n",
        "    npimg = img.numpy()\n",
        "    plt.imshow(np.transpose(npimg, (1, 2, 0)))\n",
        "\n",
        "\"\"\"\n",
        "DON'T MODIFY ANYTHING IN THIS CELL THAT IS BELOW THIS LINE\n",
        "\"\"\"\n",
        "# obtain one batch of training images\n",
        "dataiter = iter(celeba_train_loader)\n",
        "images, _ = dataiter.next() # _ for no labels\n",
        "\n",
        "# plot the images in the batch, along with the corresponding labels\n",
        "fig = plt.figure(figsize=(20, 4))\n",
        "plot_size=20\n",
        "for idx in np.arange(plot_size):\n",
        "    ax = fig.add_subplot(2, plot_size/2, idx+1, xticks=[], yticks=[])\n",
        "    imshow(images[idx])"
      ],
      "execution_count": null,
      "outputs": [
        {
          "output_type": "display_data",
          "data": {
            "image/png": "[encoded data removed]",
            "text/plain": [
              "<matplotlib.figure.Figure at 0x7ff89d3dac50>"
            ]
          },
          "metadata": {
            "tags": []
          }
        }
      ]
    },
    {
      "cell_type": "code",
      "metadata": {
        "id": "0IRW5JH31KAQ",
        "outputId": "9d4f24bd-d2f7-4656-b55f-8b6e55bbd5e9"
      },
      "source": [
        "images.shape"
      ],
      "execution_count": null,
      "outputs": [
        {
          "output_type": "execute_result",
          "data": {
            "text/plain": [
              "torch.Size([128, 3, 32, 32])"
            ]
          },
          "metadata": {
            "tags": []
          },
          "execution_count": 45
        }
      ]
    },
    {
      "cell_type": "code",
      "metadata": {
        "id": "U-HU43yD1KAR",
        "outputId": "73375aff-92dc-4ad2-cf1e-f6054cdef8c9"
      },
      "source": [
        "images.min()"
      ],
      "execution_count": null,
      "outputs": [
        {
          "output_type": "execute_result",
          "data": {
            "text/plain": [
              "tensor(0.)"
            ]
          },
          "metadata": {
            "tags": []
          },
          "execution_count": 41
        }
      ]
    },
    {
      "cell_type": "code",
      "metadata": {
        "id": "D3xpbycK1KAR",
        "outputId": "8c7043a7-2bf7-4ae5-cec7-6c7dbba9d732"
      },
      "source": [
        "images.max()"
      ],
      "execution_count": null,
      "outputs": [
        {
          "output_type": "execute_result",
          "data": {
            "text/plain": [
              "tensor(1.)"
            ]
          },
          "metadata": {
            "tags": []
          },
          "execution_count": 42
        }
      ]
    },
    {
      "cell_type": "code",
      "metadata": {
        "id": "e24Cg4c81KAR"
      },
      "source": [
        "images_exp=images.numpy().copy()"
      ],
      "execution_count": null,
      "outputs": []
    },
    {
      "cell_type": "code",
      "metadata": {
        "id": "iJM65_Wu1KAS"
      },
      "source": [
        "images_exp=images_exp * (1 - (-1)) + (-1) "
      ],
      "execution_count": null,
      "outputs": []
    },
    {
      "cell_type": "code",
      "metadata": {
        "id": "x0BwZi3q1KAS",
        "outputId": "987112b0-a3fc-4424-cdef-e0bbc6b4b9db"
      },
      "source": [
        "images_exp.max()"
      ],
      "execution_count": null,
      "outputs": [
        {
          "output_type": "execute_result",
          "data": {
            "text/plain": [
              "1.0"
            ]
          },
          "metadata": {
            "tags": []
          },
          "execution_count": 60
        }
      ]
    },
    {
      "cell_type": "code",
      "metadata": {
        "id": "AYw214Iz1KAS",
        "outputId": "dfa9d28b-c6a0-4925-d187-a31d7f4e8db4"
      },
      "source": [
        "images_exp.min()"
      ],
      "execution_count": null,
      "outputs": [
        {
          "output_type": "execute_result",
          "data": {
            "text/plain": [
              "-1.0"
            ]
          },
          "metadata": {
            "tags": []
          },
          "execution_count": 61
        }
      ]
    },
    {
      "cell_type": "code",
      "metadata": {
        "id": "I6C2k9qk1KAS",
        "outputId": "4aa8a52c-6a6e-484b-979c-9e5f0ab56ad9"
      },
      "source": [
        "2/2+0.5"
      ],
      "execution_count": null,
      "outputs": [
        {
          "output_type": "execute_result",
          "data": {
            "text/plain": [
              "1.5"
            ]
          },
          "metadata": {
            "tags": []
          },
          "execution_count": 62
        }
      ]
    },
    {
      "cell_type": "code",
      "metadata": {
        "id": "69nP_Y581KAT",
        "outputId": "064f9f6d-0520-4786-f56b-83e85833d7dd"
      },
      "source": [
        "(2+1)/2"
      ],
      "execution_count": null,
      "outputs": [
        {
          "output_type": "execute_result",
          "data": {
            "text/plain": [
              "1.5"
            ]
          },
          "metadata": {
            "tags": []
          },
          "execution_count": 64
        }
      ]
    },
    {
      "cell_type": "code",
      "metadata": {
        "id": "gcKBDmwV1KAT"
      },
      "source": [
        "images_exp=images_exp/(1-(-1)) -(-1*0.5)"
      ],
      "execution_count": null,
      "outputs": []
    },
    {
      "cell_type": "code",
      "metadata": {
        "id": "EslxIFB-1KAT",
        "outputId": "bf8a5569-adfa-4750-a88f-7d743d9c4fc9"
      },
      "source": [
        "images_exp.max()"
      ],
      "execution_count": null,
      "outputs": [
        {
          "output_type": "execute_result",
          "data": {
            "text/plain": [
              "1.0"
            ]
          },
          "metadata": {
            "tags": []
          },
          "execution_count": 66
        }
      ]
    },
    {
      "cell_type": "code",
      "metadata": {
        "id": "Rw-ffhEi1KAT",
        "outputId": "d85fe48e-0567-4f7c-a2bf-84ef9abe0f81"
      },
      "source": [
        "images_exp.min()"
      ],
      "execution_count": null,
      "outputs": [
        {
          "output_type": "execute_result",
          "data": {
            "text/plain": [
              "0.0"
            ]
          },
          "metadata": {
            "tags": []
          },
          "execution_count": 67
        }
      ]
    },
    {
      "cell_type": "code",
      "metadata": {
        "id": "vsDK2bx_1KAT"
      },
      "source": [
        "images_exp=(images_exp--1)/(1--1)"
      ],
      "execution_count": null,
      "outputs": []
    },
    {
      "cell_type": "code",
      "metadata": {
        "id": "wzvpKySo1KAU"
      },
      "source": [
        ""
      ],
      "execution_count": null,
      "outputs": []
    },
    {
      "cell_type": "markdown",
      "metadata": {
        "id": "yZb5yV_b1KAU"
      },
      "source": [
        "#### Exercise: Pre-process your image data and scale it to a pixel range of -1 to 1\n",
        "\n",
        "You need to do a bit of pre-processing; you know that the output of a `tanh` activated generator will contain pixel values in a range from -1 to 1, and so, we need to rescale our training images to a range of -1 to 1. (Right now, they are in a range from 0-1.)"
      ]
    },
    {
      "cell_type": "code",
      "metadata": {
        "id": "3v_32Nyf1KAU"
      },
      "source": [
        "# TODO: Complete the scale function\n",
        "def scale(x, feature_range=(-1, 1)):\n",
        "    ''' Scale takes in an image x and returns that image, scaled\n",
        "       with a feature_range of pixel values from -1 to 1. \n",
        "       This function assumes that the input x is already scaled from 0-1.'''\n",
        "    # assume x is scaled to (0, 1)\n",
        "    # scale to feature_range and return scaled x\n",
        "    min_, max_ = feature_range\n",
        "    x=x * (max_ - min_) + min_ \n",
        "    return x\n",
        "\n"
      ],
      "execution_count": null,
      "outputs": []
    },
    {
      "cell_type": "code",
      "metadata": {
        "id": "T_Tprsq01KAU",
        "outputId": "c4ee7fd4-8e6d-4d00-87e2-1e616fce89b8"
      },
      "source": [
        "\"\"\"\n",
        "DON'T MODIFY ANYTHING IN THIS CELL THAT IS BELOW THIS LINE\n",
        "\"\"\"\n",
        "# check scaled range\n",
        "# should be close to -1 to 1\n",
        "img = images[0]\n",
        "scaled_img = scale(img)\n",
        "\n",
        "print('Min: ', scaled_img.min())\n",
        "print('Max: ', scaled_img.max())"
      ],
      "execution_count": null,
      "outputs": [
        {
          "output_type": "stream",
          "text": [
            "Min:  tensor(-0.8980)\n",
            "Max:  tensor(0.8510)\n"
          ],
          "name": "stdout"
        }
      ]
    },
    {
      "cell_type": "markdown",
      "metadata": {
        "id": "Sqw5XFTp1KAV"
      },
      "source": [
        "---\n",
        "# Define the Model\n",
        "\n",
        "A GAN is comprised of two adversarial networks, a discriminator and a generator.\n",
        "\n",
        "## Discriminator\n",
        "\n",
        "Your first task will be to define the discriminator. This is a convolutional classifier like you've built before, only without any maxpooling layers. To deal with this complex data, it's suggested you use a deep network with **normalization**. You are also allowed to create any helper functions that may be useful.\n",
        "\n",
        "#### Exercise: Complete the Discriminator class\n",
        "* The inputs to the discriminator are 32x32x3 tensor images\n",
        "* The output should be a single value that will indicate whether a given image is real or fake\n"
      ]
    },
    {
      "cell_type": "code",
      "metadata": {
        "id": "ucKXn2Yj1KAV"
      },
      "source": [
        "import torch.nn as nn\n",
        "import torch.nn.functional as F"
      ],
      "execution_count": null,
      "outputs": []
    },
    {
      "cell_type": "code",
      "metadata": {
        "id": "uZ7K2U1A1KAV",
        "outputId": "70cd9e50-9f01-4b10-9247-ef615bc1f408"
      },
      "source": [
        "class Discriminator(nn.Module):\n",
        "\n",
        "    def __init__(self, conv_dim):\n",
        "        \"\"\"\n",
        "        Initialize the Discriminator Module\n",
        "        :param conv_dim: The depth of the first convolutional layer\n",
        "        \"\"\"\n",
        "        super(Discriminator, self).__init__()\n",
        "        self.conv_dim = conv_dim\n",
        "        self.conv1 = nn.Conv2d(3, conv_dim, kernel_size=4, stride=2, padding=1, bias=False)\n",
        "        self.batch_norm1 = nn.BatchNorm2d(conv_dim)\n",
        "        self.conv2 = nn.Conv2d(conv_dim, conv_dim*2, kernel_size=4, stride=2, padding=1, bias=False)\n",
        "        self.batch_norm2 = nn.BatchNorm2d(conv_dim*2)\n",
        "        self.conv3 = nn.Conv2d(conv_dim*2, conv_dim*4, kernel_size=4, stride=2, padding=1, bias=False)\n",
        "        self.batch_norm3 = nn.BatchNorm2d(conv_dim*4)\n",
        "        self.conv4 = nn.Conv2d(conv_dim*4, conv_dim*8, kernel_size=4, stride=2, padding=1, bias=False)\n",
        "        self.batch_norm4 = nn.BatchNorm2d(conv_dim*8)\n",
        "        self.conv5 = nn.Conv2d(conv_dim*8, conv_dim*16, kernel_size=4, stride=2, padding=1, bias=False)\n",
        "        self.fc = nn.Linear(conv_dim*4*4, 1)\n",
        "        \n",
        "\n",
        "        # complete init function\n",
        "        \n",
        "\n",
        "    def forward(self, x):\n",
        "        \"\"\"\n",
        "        Forward propagation of the neural network\n",
        "        :param x: The input to the neural network     \n",
        "        :return: Discriminator logits; the output of the neural network\n",
        "        \"\"\"\n",
        "        # define feedforward behavior\n",
        "        \n",
        "        x = F.leaky_relu(self.batch_norm1(self.conv1(x)), 0.2)\n",
        "        x = F.leaky_relu(self.batch_norm2(self.conv2(x)), 0.2)\n",
        "        x = F.leaky_relu(self.batch_norm3(self.conv3(x)), 0.2)\n",
        "        x = F.leaky_relu(self.batch_norm4(self.conv4(x)), 0.2)\n",
        "        x = self.conv5(x)\n",
        "        x = x.view(-1, self.conv_dim*4*4)\n",
        "        x = F.sigmoid(self.fc(x))\n",
        "        \n",
        "        return x\n",
        "\n",
        "\n",
        "\"\"\"\n",
        "DON'T MODIFY ANYTHING IN THIS CELL THAT IS BELOW THIS LINE\n",
        "\"\"\"\n",
        "tests.test_discriminator(Discriminator)"
      ],
      "execution_count": null,
      "outputs": [
        {
          "output_type": "stream",
          "text": [
            "Tests Passed\n"
          ],
          "name": "stdout"
        }
      ]
    },
    {
      "cell_type": "markdown",
      "metadata": {
        "id": "ft_re_fv1KAV"
      },
      "source": [
        "## Generator\n",
        "\n",
        "The generator should upsample an input and generate a *new* image of the same size as our training data `32x32x3`. This should be mostly transpose convolutional layers with normalization applied to the outputs.\n",
        "\n",
        "#### Exercise: Complete the Generator class\n",
        "* The inputs to the generator are vectors of some length `z_size`\n",
        "* The output should be a image of shape `32x32x3`"
      ]
    },
    {
      "cell_type": "code",
      "metadata": {
        "id": "igWu3Ftc1KAW",
        "outputId": "7830d3a8-1c52-41ea-d2dd-03bb65497545"
      },
      "source": [
        "class Generator(nn.Module):\n",
        "    \n",
        "    def __init__(self, z_size, conv_dim):\n",
        "        \"\"\"\n",
        "        Initialize the Generator Module\n",
        "        :param z_size: The length of the input latent vector, z\n",
        "        :param conv_dim: The depth of the inputs to the *last* transpose convolutional layer\n",
        "        \"\"\"\n",
        "        super(Generator, self).__init__()\n",
        "        self.conv_dim = conv_dim\n",
        "        self.t_conv1 = nn.ConvTranspose2d(conv_dim, conv_dim*8, kernel_size=4, stride=2, padding=1, bias=False)\n",
        "        self.batch_norm1 = nn.BatchNorm2d(conv_dim*8)\n",
        "        self.t_conv2 = nn.ConvTranspose2d(conv_dim*8, conv_dim*4, kernel_size=4, stride=2, padding=1, bias=False)\n",
        "        self.batch_norm2 = nn.BatchNorm2d(conv_dim*4)\n",
        "        self.t_conv3 = nn.ConvTranspose2d(conv_dim*4, conv_dim*2, kernel_size=4, stride=2, padding=1, bias=False)\n",
        "        self.batch_norm3 = nn.BatchNorm2d(conv_dim*2)\n",
        "        self.t_conv4 = nn.ConvTranspose2d(conv_dim*2, 3, kernel_size=4, stride=2, padding=1, bias=False)\n",
        "        self.fc = nn.Linear(z_size, conv_dim*4)\n",
        "        # complete init function\n",
        "        \n",
        "\n",
        "    def forward(self, x):\n",
        "        \"\"\"\n",
        "        Forward propagation of the neural network\n",
        "        :param x: The input to the neural network     \n",
        "        :return: A 32x32x3 Tensor image as output\n",
        "        \"\"\"\n",
        "        # define feedforward behavior\n",
        "        x = self.fc(x)\n",
        "        x = x.view(x.shape[0], self.conv_dim, 2, 2)\n",
        "        x = F.relu(self.batch_norm1(self.t_conv1(x)))\n",
        "        x = F.relu(self.batch_norm2(self.t_conv2(x)))\n",
        "        x = F.relu(self.batch_norm3(self.t_conv3(x)))\n",
        "        x = self.t_conv4(x)\n",
        "        x = F.tanh(x)\n",
        "        return x\n",
        "\n",
        "\"\"\"\n",
        "DON'T MODIFY ANYTHING IN THIS CELL THAT IS BELOW THIS LINE\n",
        "\"\"\"\n",
        "tests.test_generator(Generator)"
      ],
      "execution_count": null,
      "outputs": [
        {
          "output_type": "stream",
          "text": [
            "Tests Passed\n"
          ],
          "name": "stdout"
        }
      ]
    },
    {
      "cell_type": "markdown",
      "metadata": {
        "id": "4RTsiXxK1KAW"
      },
      "source": [
        "## Initialize the weights of your networks\n",
        "\n",
        "To help your models converge, you should initialize the weights of the convolutional and linear layers in your model. From reading the [original DCGAN paper](https://arxiv.org/pdf/1511.06434.pdf), they say:\n",
        "> All weights were initialized from a zero-centered Normal distribution with standard deviation 0.02.\n",
        "\n",
        "So, your next task will be to define a weight initialization function that does just this!\n",
        "\n",
        "You can refer back to the lesson on weight initialization or even consult existing model code, such as that from [the `networks.py` file in CycleGAN Github repository](https://github.com/junyanz/pytorch-CycleGAN-and-pix2pix/blob/master/models/networks.py) to help you complete this function.\n",
        "\n",
        "#### Exercise: Complete the weight initialization function\n",
        "\n",
        "* This should initialize only **convolutional** and **linear** layers\n",
        "* Initialize the weights to a normal distribution, centered around 0, with a standard deviation of 0.02.\n",
        "* The bias terms, if they exist, may be left alone or set to 0."
      ]
    },
    {
      "cell_type": "code",
      "metadata": {
        "id": "Pz1oNx2s1KAW"
      },
      "source": [
        "def weights_init_normal(m):\n",
        "    \"\"\"\n",
        "    Applies initial weights to certain layers in a model .\n",
        "    The weights are taken from a normal distribution \n",
        "    with mean = 0, std dev = 0.02.\n",
        "    :param m: A module or layer in a network    \n",
        "    \"\"\"\n",
        "    # classname will be something like:\n",
        "    # `Conv`, `BatchNorm2d`, `Linear`, etc.\n",
        "    classname = m.__class__.__name__\n",
        "    \n",
        "    # TODO: Apply initial weights to convolutional and linear layers\n",
        "    \n",
        "    isConvolution = classname.find('Conv') != -1\n",
        "    isLinear = classname.find('Linear') != -1\n",
        "    if hasattr(m, 'weight') and (isConvolution != -1 or  isLinear != -1):\n",
        "        nn.init.normal_(m.weight.data, 0.0, 0.02)\n",
        "        if hasattr(m.bias, 'data'):\n",
        "            nn.init.constant_(m.bias.data, 0.0)"
      ],
      "execution_count": null,
      "outputs": []
    },
    {
      "cell_type": "markdown",
      "metadata": {
        "collapsed": true,
        "id": "etDXeoVd1KAW"
      },
      "source": [
        "## Build complete network\n",
        "\n",
        "Define your models' hyperparameters and instantiate the discriminator and generator from the classes defined above. Make sure you've passed in the correct input arguments."
      ]
    },
    {
      "cell_type": "code",
      "metadata": {
        "id": "jpK7lXBV1KAX"
      },
      "source": [
        "\"\"\"\n",
        "DON'T MODIFY ANYTHING IN THIS CELL THAT IS BELOW THIS LINE\n",
        "\"\"\"\n",
        "def build_network(d_conv_dim, g_conv_dim, z_size):\n",
        "    # define discriminator and generator\n",
        "    D = Discriminator(d_conv_dim)\n",
        "    G = Generator(z_size=z_size, conv_dim=g_conv_dim)\n",
        "\n",
        "    # initialize model weights\n",
        "    D.apply(weights_init_normal)\n",
        "    G.apply(weights_init_normal)\n",
        "\n",
        "    print(D)\n",
        "    print()\n",
        "    print(G)\n",
        "    \n",
        "    return D, G\n"
      ],
      "execution_count": null,
      "outputs": []
    },
    {
      "cell_type": "markdown",
      "metadata": {
        "id": "in0OndQa1KAX"
      },
      "source": [
        "#### Exercise: Define model hyperparameters"
      ]
    },
    {
      "cell_type": "code",
      "metadata": {
        "id": "_WNjpXTb1KAX",
        "outputId": "cd06063b-419e-4ce7-ec0c-f586c01cffda"
      },
      "source": [
        "# Define model hyperparams\n",
        "d_conv_dim = 32\n",
        "g_conv_dim = 32\n",
        "z_size = 100\n",
        "\n",
        "\"\"\"\n",
        "DON'T MODIFY ANYTHING IN THIS CELL THAT IS BELOW THIS LINE\n",
        "\"\"\"\n",
        "D, G = build_network(d_conv_dim, g_conv_dim, z_size)"
      ],
      "execution_count": null,
      "outputs": [
        {
          "output_type": "stream",
          "text": [
            "Discriminator(\n",
            "  (conv1): Conv2d(3, 32, kernel_size=(4, 4), stride=(2, 2), padding=(1, 1), bias=False)\n",
            "  (batch_norm1): BatchNorm2d(32, eps=1e-05, momentum=0.1, affine=True, track_running_stats=True)\n",
            "  (conv2): Conv2d(32, 64, kernel_size=(4, 4), stride=(2, 2), padding=(1, 1), bias=False)\n",
            "  (batch_norm2): BatchNorm2d(64, eps=1e-05, momentum=0.1, affine=True, track_running_stats=True)\n",
            "  (conv3): Conv2d(64, 128, kernel_size=(4, 4), stride=(2, 2), padding=(1, 1), bias=False)\n",
            "  (batch_norm3): BatchNorm2d(128, eps=1e-05, momentum=0.1, affine=True, track_running_stats=True)\n",
            "  (conv4): Conv2d(128, 256, kernel_size=(4, 4), stride=(2, 2), padding=(1, 1), bias=False)\n",
            "  (batch_norm4): BatchNorm2d(256, eps=1e-05, momentum=0.1, affine=True, track_running_stats=True)\n",
            "  (conv5): Conv2d(256, 512, kernel_size=(4, 4), stride=(2, 2), padding=(1, 1), bias=False)\n",
            "  (fc): Linear(in_features=512, out_features=1, bias=True)\n",
            ")\n",
            "\n",
            "Generator(\n",
            "  (t_conv1): ConvTranspose2d(32, 256, kernel_size=(4, 4), stride=(2, 2), padding=(1, 1), bias=False)\n",
            "  (batch_norm1): BatchNorm2d(256, eps=1e-05, momentum=0.1, affine=True, track_running_stats=True)\n",
            "  (t_conv2): ConvTranspose2d(256, 128, kernel_size=(4, 4), stride=(2, 2), padding=(1, 1), bias=False)\n",
            "  (batch_norm2): BatchNorm2d(128, eps=1e-05, momentum=0.1, affine=True, track_running_stats=True)\n",
            "  (t_conv3): ConvTranspose2d(128, 64, kernel_size=(4, 4), stride=(2, 2), padding=(1, 1), bias=False)\n",
            "  (batch_norm3): BatchNorm2d(64, eps=1e-05, momentum=0.1, affine=True, track_running_stats=True)\n",
            "  (t_conv4): ConvTranspose2d(64, 3, kernel_size=(4, 4), stride=(2, 2), padding=(1, 1), bias=False)\n",
            "  (fc): Linear(in_features=100, out_features=128, bias=True)\n",
            ")\n"
          ],
          "name": "stdout"
        }
      ]
    },
    {
      "cell_type": "markdown",
      "metadata": {
        "id": "7P3-liqG1KAX"
      },
      "source": [
        "### Training on GPU\n",
        "\n",
        "Check if you can train on GPU. Here, we'll set this as a boolean variable `train_on_gpu`. Later, you'll be responsible for making sure that \n",
        ">* Models,\n",
        "* Model inputs, and\n",
        "* Loss function arguments\n",
        "\n",
        "Are moved to GPU, where appropriate."
      ]
    },
    {
      "cell_type": "code",
      "metadata": {
        "id": "dAoDJtW41KAX",
        "outputId": "d8a2def2-c7dd-4ebf-d312-bea0ef232747"
      },
      "source": [
        "\"\"\"\n",
        "DON'T MODIFY ANYTHING IN THIS CELL\n",
        "\"\"\"\n",
        "import torch\n",
        "\n",
        "# Check for a GPU\n",
        "train_on_gpu = torch.cuda.is_available()\n",
        "if not train_on_gpu:\n",
        "    print('No GPU found. Please use a GPU to train your neural network.')\n",
        "else:\n",
        "    print('Training on GPU!')"
      ],
      "execution_count": null,
      "outputs": [
        {
          "output_type": "stream",
          "text": [
            "Training on GPU!\n"
          ],
          "name": "stdout"
        }
      ]
    },
    {
      "cell_type": "markdown",
      "metadata": {
        "id": "nfI8wR7Q1KAY"
      },
      "source": [
        "---\n",
        "## Discriminator and Generator Losses\n",
        "\n",
        "Now we need to calculate the losses for both types of adversarial networks.\n",
        "\n",
        "### Discriminator Losses\n",
        "\n",
        "> * For the discriminator, the total loss is the sum of the losses for real and fake images, `d_loss = d_real_loss + d_fake_loss`. \n",
        "* Remember that we want the discriminator to output 1 for real images and 0 for fake images, so we need to set up the losses to reflect that.\n",
        "\n",
        "\n",
        "### Generator Loss\n",
        "\n",
        "The generator loss will look similar only with flipped labels. The generator's goal is to get the discriminator to *think* its generated images are *real*.\n",
        "\n",
        "#### Exercise: Complete real and fake loss functions\n",
        "\n",
        "**You may choose to use either cross entropy or a least squares error loss to complete the following `real_loss` and `fake_loss` functions.**"
      ]
    },
    {
      "cell_type": "code",
      "metadata": {
        "id": "rfoNL5bN1KAY"
      },
      "source": [
        "def real_loss(D_out,smooth=False):\n",
        "    '''Calculates how close discriminator outputs are to being real.\n",
        "       param, D_out: discriminator logits\n",
        "       return: real loss'''\n",
        "    batch_size = D_out.size(0)\n",
        "    \n",
        "    if smooth:\n",
        "        labels = torch.ones(batch_size) * 0.9\n",
        "    else:\n",
        "        labels = torch.ones(batch_size)\n",
        "        \n",
        "    if train_on_gpu:\n",
        "        labels = labels.cuda()\n",
        "        \n",
        "    criterion = nn.BCELoss()\n",
        "    loss = criterion(D_out.squeeze(), labels)\n",
        "    return loss\n",
        "\n",
        "def fake_loss(D_out):\n",
        "    '''Calculates how close discriminator outputs are to being fake.\n",
        "       param, D_out: discriminator logits\n",
        "       return: fake loss'''\n",
        "    batch_size = D_out.size(0)\n",
        "    labels = torch.zeros(batch_size)\n",
        "    \n",
        "    if train_on_gpu:\n",
        "        labels = labels.cuda()\n",
        "        \n",
        "    criterion = nn.BCELoss()\n",
        "    loss = criterion(D_out.squeeze(), labels)\n",
        "    return loss"
      ],
      "execution_count": null,
      "outputs": []
    },
    {
      "cell_type": "markdown",
      "metadata": {
        "id": "57f0WnZb1KAY"
      },
      "source": [
        "## Optimizers\n",
        "\n",
        "#### Exercise: Define optimizers for your Discriminator (D) and Generator (G)\n",
        "\n",
        "Define optimizers for your models with appropriate hyperparameters."
      ]
    },
    {
      "cell_type": "code",
      "metadata": {
        "id": "b8iF4hVf1KAZ"
      },
      "source": [
        "import torch.optim as optim\n",
        "\n",
        "# Create optimizers for the discriminator D and generator G\n",
        "d_optimizer = optim.Adam(D.parameters(), lr=0.0005, betas=(0.3, 0.999))\n",
        "g_optimizer = optim.Adam(G.parameters(), lr=0.0005, betas=(0.3, 0.999)) "
      ],
      "execution_count": null,
      "outputs": []
    },
    {
      "cell_type": "markdown",
      "metadata": {
        "id": "H2QEc4vq1KAZ"
      },
      "source": [
        "---\n",
        "## Training\n",
        "\n",
        "Training will involve alternating between training the discriminator and the generator. You'll use your functions `real_loss` and `fake_loss` to help you calculate the discriminator losses.\n",
        "\n",
        "* You should train the discriminator by alternating on real and fake images\n",
        "* Then the generator, which tries to trick the discriminator and should have an opposing loss function\n",
        "\n",
        "\n",
        "#### Saving Samples\n",
        "\n",
        "You've been given some code to print out some loss statistics and save some generated \"fake\" samples."
      ]
    },
    {
      "cell_type": "markdown",
      "metadata": {
        "id": "sbPKXIlO1KAZ"
      },
      "source": [
        "#### Exercise: Complete the training function\n",
        "\n",
        "Keep in mind that, if you've moved your models to GPU, you'll also have to move any model inputs to GPU."
      ]
    },
    {
      "cell_type": "code",
      "metadata": {
        "id": "3QFcGoKd1KAZ"
      },
      "source": [
        "def train(D, G, n_epochs, print_every=50):\n",
        "    '''Trains adversarial networks for some number of epochs\n",
        "       param, D: the discriminator network\n",
        "       param, G: the generator network\n",
        "       param, n_epochs: number of epochs to train for\n",
        "       param, print_every: when to print and record the models' losses\n",
        "       return: D and G losses'''\n",
        "    \n",
        "    # move models to GPU\n",
        "    if train_on_gpu:\n",
        "        D.cuda()\n",
        "        G.cuda()\n",
        "\n",
        "    # keep track of loss and generated, \"fake\" samples\n",
        "    samples = []\n",
        "    losses = []\n",
        "\n",
        "    # Get some fixed data for sampling. These are images that are held\n",
        "    # constant throughout training, and allow us to inspect the model's performance\n",
        "    sample_size=16\n",
        "    fixed_z = np.random.uniform(-1, 1, size=(sample_size, z_size))\n",
        "    fixed_z = torch.from_numpy(fixed_z).float()\n",
        "    # move z to GPU if available\n",
        "    if train_on_gpu:\n",
        "        fixed_z = fixed_z.cuda()\n",
        "\n",
        "    # epoch training loop\n",
        "    for epoch in range(n_epochs):\n",
        "\n",
        "        # batch training loop\n",
        "        for batch_i, (real_images, _) in enumerate(celeba_train_loader):\n",
        "\n",
        "            batch_size = real_images.size(0)\n",
        "            real_images = scale(real_images)\n",
        "\n",
        "            # ===============================================\n",
        "            #         YOUR CODE HERE: TRAIN THE NETWORKS\n",
        "            # ===============================================\n",
        "            \n",
        "            if train_on_gpu:\n",
        "                real_images = real_images.cuda()\n",
        "            \n",
        "            d_optimizer.zero_grad()\n",
        "            D_real = D(real_images)\n",
        "            d_real_loss = real_loss(D_real)\n",
        "            z_flex = np.random.uniform(-1, 1, size=(batch_size, z_size))\n",
        "            z_flex = torch.from_numpy(z_flex).float()\n",
        "            \n",
        "            if train_on_gpu:\n",
        "                z_flex = z_flex.cuda()\n",
        "                \n",
        "            fake_images = G(z_flex)\n",
        "            D_fake = D(fake_images)\n",
        "            d_fake_loss = fake_loss(D_fake)\n",
        "                \n",
        "            d_loss = d_real_loss + d_fake_loss\n",
        "            d_loss.backward()\n",
        "            d_optimizer.step()\n",
        "\n",
        "            # 2. Train the generator with an adversarial loss\n",
        "            g_optimizer.zero_grad()\n",
        "            z_flex = np.random.uniform(-1, 1, size=(batch_size, z_size))\n",
        "            z_flex = torch.from_numpy(z_flex).float()\n",
        "            \n",
        "            if train_on_gpu:\n",
        "                z_flex = z_flex.cuda()\n",
        "                \n",
        "            fake_images = G(z_flex)\n",
        "            D_fake = D(fake_images)\n",
        "            g_loss = real_loss(D_fake, True)\n",
        "            g_loss.backward()\n",
        "            g_optimizer.step()\n",
        "            \n",
        "            # ===============================================\n",
        "            #              END OF YOUR CODE\n",
        "            # ===============================================\n",
        "\n",
        "            # Print some loss stats\n",
        "            if batch_i % print_every == 0:\n",
        "                # append discriminator loss and generator loss\n",
        "                losses.append((d_loss.item(), g_loss.item()))\n",
        "                # print discriminator and generator loss\n",
        "                print('Epoch [{:5d}/{:5d}] | d_loss: {:6.4f} | g_loss: {:6.4f}'.format(\n",
        "                        epoch+1, n_epochs, d_loss.item(), g_loss.item()))\n",
        "\n",
        "\n",
        "        ## AFTER EACH EPOCH##    \n",
        "        # this code assumes your generator is named G, feel free to change the name\n",
        "        # generate and save sample, fake images\n",
        "        G.eval() # for generating samples\n",
        "        samples_z = G(fixed_z)\n",
        "        samples.append(samples_z)\n",
        "        G.train() # back to training mode\n",
        "\n",
        "    # Save training generator samples\n",
        "    with open('train_samples.pkl', 'wb') as f:\n",
        "        pkl.dump(samples, f)\n",
        "    \n",
        "    # finally return losses\n",
        "    return losses"
      ],
      "execution_count": null,
      "outputs": []
    },
    {
      "cell_type": "markdown",
      "metadata": {
        "id": "llf2Tgr11KAZ"
      },
      "source": [
        "Set your number of training epochs and train your GAN!"
      ]
    },
    {
      "cell_type": "code",
      "metadata": {
        "id": "e7RMqh4C1KAa",
        "outputId": "85597cbd-792a-48cb-d9e1-6e762c0d7489"
      },
      "source": [
        "# set number of epochs \n",
        "n_epochs = 15\n",
        "\n",
        "\n",
        "\"\"\"\n",
        "DON'T MODIFY ANYTHING IN THIS CELL\n",
        "\"\"\"\n",
        "# call training function\n",
        "losses = train(D, G, n_epochs=n_epochs)"
      ],
      "execution_count": null,
      "outputs": [
        {
          "output_type": "stream",
          "text": [
            "Epoch [    1/   15] | d_loss: 1.3861 | g_loss: 0.6960\n",
            "Epoch [    1/   15] | d_loss: 0.8882 | g_loss: 2.1756\n",
            "Epoch [    1/   15] | d_loss: 1.3493 | g_loss: 1.6626\n",
            "Epoch [    1/   15] | d_loss: 1.2495 | g_loss: 1.4832\n",
            "Epoch [    1/   15] | d_loss: 1.3098 | g_loss: 1.7650\n",
            "Epoch [    1/   15] | d_loss: 1.2800 | g_loss: 1.2136\n",
            "Epoch [    1/   15] | d_loss: 1.2763 | g_loss: 1.1307\n",
            "Epoch [    1/   15] | d_loss: 1.0504 | g_loss: 1.3514\n",
            "Epoch [    1/   15] | d_loss: 1.2239 | g_loss: 0.9388\n",
            "Epoch [    1/   15] | d_loss: 1.3805 | g_loss: 0.8548\n",
            "Epoch [    1/   15] | d_loss: 1.2105 | g_loss: 1.4515\n",
            "Epoch [    1/   15] | d_loss: 1.2369 | g_loss: 0.8508\n",
            "Epoch [    1/   15] | d_loss: 1.0911 | g_loss: 1.2709\n",
            "Epoch [    1/   15] | d_loss: 1.1917 | g_loss: 1.3057\n",
            "Epoch [    1/   15] | d_loss: 1.5536 | g_loss: 0.5584\n",
            "Epoch [    2/   15] | d_loss: 1.0290 | g_loss: 1.5568\n",
            "Epoch [    2/   15] | d_loss: 1.1614 | g_loss: 1.5546\n",
            "Epoch [    2/   15] | d_loss: 1.0524 | g_loss: 1.1629\n",
            "Epoch [    2/   15] | d_loss: 1.3040 | g_loss: 1.5843\n",
            "Epoch [    2/   15] | d_loss: 1.1618 | g_loss: 2.2478\n",
            "Epoch [    2/   15] | d_loss: 1.2000 | g_loss: 2.3246\n",
            "Epoch [    2/   15] | d_loss: 0.9738 | g_loss: 1.1087\n",
            "Epoch [    2/   15] | d_loss: 1.2511 | g_loss: 2.4792\n",
            "Epoch [    2/   15] | d_loss: 1.3568 | g_loss: 0.7488\n",
            "Epoch [    2/   15] | d_loss: 1.2931 | g_loss: 0.6687\n",
            "Epoch [    2/   15] | d_loss: 1.0502 | g_loss: 1.6969\n",
            "Epoch [    2/   15] | d_loss: 1.0861 | g_loss: 2.0808\n",
            "Epoch [    2/   15] | d_loss: 1.1419 | g_loss: 2.0879\n",
            "Epoch [    2/   15] | d_loss: 0.9919 | g_loss: 2.0835\n",
            "Epoch [    2/   15] | d_loss: 1.0039 | g_loss: 1.0845\n",
            "Epoch [    3/   15] | d_loss: 1.3287 | g_loss: 2.9761\n",
            "Epoch [    3/   15] | d_loss: 1.7012 | g_loss: 1.9704\n",
            "Epoch [    3/   15] | d_loss: 1.0434 | g_loss: 2.0216\n",
            "Epoch [    3/   15] | d_loss: 1.3313 | g_loss: 0.6504\n",
            "Epoch [    3/   15] | d_loss: 1.1297 | g_loss: 0.8909\n",
            "Epoch [    3/   15] | d_loss: 1.0758 | g_loss: 1.9989\n",
            "Epoch [    3/   15] | d_loss: 1.7415 | g_loss: 0.4005\n",
            "Epoch [    3/   15] | d_loss: 1.1358 | g_loss: 1.9900\n",
            "Epoch [    3/   15] | d_loss: 1.4380 | g_loss: 2.2535\n",
            "Epoch [    3/   15] | d_loss: 1.1037 | g_loss: 1.0373\n",
            "Epoch [    3/   15] | d_loss: 1.1182 | g_loss: 1.6970\n",
            "Epoch [    3/   15] | d_loss: 1.1001 | g_loss: 2.0882\n",
            "Epoch [    3/   15] | d_loss: 0.9979 | g_loss: 0.8313\n",
            "Epoch [    3/   15] | d_loss: 1.0254 | g_loss: 1.6758\n",
            "Epoch [    3/   15] | d_loss: 1.1340 | g_loss: 1.2084\n",
            "Epoch [    4/   15] | d_loss: 1.2181 | g_loss: 1.7046\n",
            "Epoch [    4/   15] | d_loss: 1.1997 | g_loss: 1.0476\n",
            "Epoch [    4/   15] | d_loss: 1.3318 | g_loss: 2.2384\n",
            "Epoch [    4/   15] | d_loss: 1.2293 | g_loss: 0.8592\n",
            "Epoch [    4/   15] | d_loss: 1.0359 | g_loss: 1.1050\n",
            "Epoch [    4/   15] | d_loss: 1.3792 | g_loss: 0.6060\n",
            "Epoch [    4/   15] | d_loss: 1.2320 | g_loss: 1.0581\n",
            "Epoch [    4/   15] | d_loss: 1.1233 | g_loss: 1.3005\n",
            "Epoch [    4/   15] | d_loss: 1.1726 | g_loss: 0.8575\n",
            "Epoch [    4/   15] | d_loss: 1.6090 | g_loss: 1.6859\n",
            "Epoch [    4/   15] | d_loss: 1.3371 | g_loss: 1.7954\n",
            "Epoch [    4/   15] | d_loss: 1.2622 | g_loss: 2.2332\n",
            "Epoch [    4/   15] | d_loss: 1.0078 | g_loss: 1.1570\n",
            "Epoch [    4/   15] | d_loss: 1.2771 | g_loss: 0.8525\n",
            "Epoch [    4/   15] | d_loss: 1.1519 | g_loss: 0.9547\n",
            "Epoch [    5/   15] | d_loss: 1.3577 | g_loss: 2.3681\n",
            "Epoch [    5/   15] | d_loss: 1.2943 | g_loss: 1.8852\n",
            "Epoch [    5/   15] | d_loss: 1.0887 | g_loss: 1.2474\n",
            "Epoch [    5/   15] | d_loss: 1.4035 | g_loss: 0.7021\n",
            "Epoch [    5/   15] | d_loss: 1.2068 | g_loss: 0.8460\n",
            "Epoch [    5/   15] | d_loss: 1.1273 | g_loss: 1.5261\n",
            "Epoch [    5/   15] | d_loss: 1.4621 | g_loss: 2.1979\n",
            "Epoch [    5/   15] | d_loss: 1.0465 | g_loss: 0.9002\n",
            "Epoch [    5/   15] | d_loss: 1.1278 | g_loss: 1.0309\n",
            "Epoch [    5/   15] | d_loss: 1.2118 | g_loss: 2.4278\n",
            "Epoch [    5/   15] | d_loss: 1.0805 | g_loss: 1.2602\n",
            "Epoch [    5/   15] | d_loss: 1.6252 | g_loss: 2.5425\n",
            "Epoch [    5/   15] | d_loss: 1.1956 | g_loss: 1.2105\n",
            "Epoch [    5/   15] | d_loss: 1.1297 | g_loss: 1.7414\n",
            "Epoch [    5/   15] | d_loss: 1.2160 | g_loss: 2.9303\n",
            "Epoch [    6/   15] | d_loss: 1.4989 | g_loss: 0.6439\n",
            "Epoch [    6/   15] | d_loss: 0.9672 | g_loss: 1.0710\n",
            "Epoch [    6/   15] | d_loss: 1.0531 | g_loss: 1.8137\n",
            "Epoch [    6/   15] | d_loss: 1.0056 | g_loss: 2.2040\n",
            "Epoch [    6/   15] | d_loss: 0.9777 | g_loss: 2.0174\n",
            "Epoch [    6/   15] | d_loss: 1.1106 | g_loss: 0.7504\n",
            "Epoch [    6/   15] | d_loss: 1.4412 | g_loss: 0.5268\n",
            "Epoch [    6/   15] | d_loss: 1.0625 | g_loss: 1.8062\n",
            "Epoch [    6/   15] | d_loss: 1.0587 | g_loss: 1.7514\n",
            "Epoch [    6/   15] | d_loss: 1.1977 | g_loss: 0.9899\n",
            "Epoch [    6/   15] | d_loss: 0.9443 | g_loss: 2.1493\n",
            "Epoch [    6/   15] | d_loss: 1.0693 | g_loss: 1.2576\n",
            "Epoch [    6/   15] | d_loss: 1.1024 | g_loss: 1.2891\n",
            "Epoch [    6/   15] | d_loss: 1.1327 | g_loss: 1.2584\n",
            "Epoch [    6/   15] | d_loss: 0.9855 | g_loss: 1.4759\n",
            "Epoch [    7/   15] | d_loss: 1.0652 | g_loss: 1.4778\n",
            "Epoch [    7/   15] | d_loss: 0.9604 | g_loss: 1.1625\n",
            "Epoch [    7/   15] | d_loss: 1.3297 | g_loss: 0.8688\n",
            "Epoch [    7/   15] | d_loss: 0.9304 | g_loss: 1.4284\n",
            "Epoch [    7/   15] | d_loss: 1.1436 | g_loss: 1.0525\n",
            "Epoch [    7/   15] | d_loss: 1.2979 | g_loss: 0.6615\n",
            "Epoch [    7/   15] | d_loss: 1.1354 | g_loss: 0.7842\n",
            "Epoch [    7/   15] | d_loss: 1.1810 | g_loss: 0.6850\n",
            "Epoch [    7/   15] | d_loss: 0.9752 | g_loss: 2.0078\n",
            "Epoch [    7/   15] | d_loss: 0.9906 | g_loss: 0.9968\n",
            "Epoch [    7/   15] | d_loss: 1.1959 | g_loss: 0.6592\n",
            "Epoch [    7/   15] | d_loss: 1.0522 | g_loss: 1.5126\n",
            "Epoch [    7/   15] | d_loss: 1.0499 | g_loss: 1.3743\n",
            "Epoch [    7/   15] | d_loss: 0.9927 | g_loss: 1.1913\n",
            "Epoch [    7/   15] | d_loss: 1.0458 | g_loss: 1.9192\n",
            "Epoch [    8/   15] | d_loss: 0.9263 | g_loss: 0.9538\n",
            "Epoch [    8/   15] | d_loss: 1.3483 | g_loss: 2.6856\n",
            "Epoch [    8/   15] | d_loss: 1.0575 | g_loss: 1.3389\n",
            "Epoch [    8/   15] | d_loss: 1.0297 | g_loss: 1.1539\n",
            "Epoch [    8/   15] | d_loss: 1.0526 | g_loss: 1.0589\n",
            "Epoch [    8/   15] | d_loss: 1.0313 | g_loss: 1.2818\n",
            "Epoch [    8/   15] | d_loss: 1.1341 | g_loss: 2.0302\n",
            "Epoch [    8/   15] | d_loss: 0.8785 | g_loss: 1.6428\n",
            "Epoch [    8/   15] | d_loss: 1.4438 | g_loss: 2.2542\n",
            "Epoch [    8/   15] | d_loss: 1.0272 | g_loss: 0.9494\n",
            "Epoch [    8/   15] | d_loss: 1.0367 | g_loss: 1.3757\n",
            "Epoch [    8/   15] | d_loss: 1.2677 | g_loss: 2.5318\n",
            "Epoch [    8/   15] | d_loss: 0.9837 | g_loss: 0.9815\n",
            "Epoch [    8/   15] | d_loss: 1.0501 | g_loss: 0.9735\n",
            "Epoch [    8/   15] | d_loss: 1.2740 | g_loss: 0.7170\n",
            "Epoch [    9/   15] | d_loss: 0.9970 | g_loss: 2.0382\n",
            "Epoch [    9/   15] | d_loss: 0.9918 | g_loss: 2.2613\n",
            "Epoch [    9/   15] | d_loss: 0.9679 | g_loss: 1.8351\n",
            "Epoch [    9/   15] | d_loss: 0.9283 | g_loss: 1.3614\n",
            "Epoch [    9/   15] | d_loss: 0.8257 | g_loss: 1.8225\n",
            "Epoch [    9/   15] | d_loss: 1.1316 | g_loss: 0.8373\n",
            "Epoch [    9/   15] | d_loss: 0.9908 | g_loss: 0.8354\n",
            "Epoch [    9/   15] | d_loss: 0.9455 | g_loss: 1.7525\n",
            "Epoch [    9/   15] | d_loss: 0.8496 | g_loss: 1.3337\n",
            "Epoch [    9/   15] | d_loss: 1.0551 | g_loss: 2.5446\n",
            "Epoch [    9/   15] | d_loss: 1.7938 | g_loss: 0.7341\n",
            "Epoch [    9/   15] | d_loss: 1.5923 | g_loss: 2.9093\n",
            "Epoch [    9/   15] | d_loss: 1.0524 | g_loss: 2.0481\n",
            "Epoch [    9/   15] | d_loss: 0.8660 | g_loss: 1.8002\n",
            "Epoch [    9/   15] | d_loss: 1.1958 | g_loss: 0.9849\n",
            "Epoch [   10/   15] | d_loss: 0.9470 | g_loss: 2.2867\n",
            "Epoch [   10/   15] | d_loss: 1.0099 | g_loss: 2.2645\n",
            "Epoch [   10/   15] | d_loss: 0.8503 | g_loss: 1.3648\n",
            "Epoch [   10/   15] | d_loss: 0.8206 | g_loss: 2.3838\n",
            "Epoch [   10/   15] | d_loss: 1.6093 | g_loss: 2.7501\n",
            "Epoch [   10/   15] | d_loss: 1.1474 | g_loss: 1.9305\n",
            "Epoch [   10/   15] | d_loss: 1.0514 | g_loss: 1.6956\n",
            "Epoch [   10/   15] | d_loss: 1.2640 | g_loss: 0.9678\n",
            "Epoch [   10/   15] | d_loss: 0.7841 | g_loss: 1.5889\n",
            "Epoch [   10/   15] | d_loss: 2.1522 | g_loss: 0.7763\n",
            "Epoch [   10/   15] | d_loss: 1.0458 | g_loss: 0.7597\n",
            "Epoch [   10/   15] | d_loss: 0.9972 | g_loss: 1.1187\n",
            "Epoch [   10/   15] | d_loss: 0.7722 | g_loss: 1.4660\n",
            "Epoch [   10/   15] | d_loss: 0.7023 | g_loss: 1.7083\n",
            "Epoch [   10/   15] | d_loss: 1.0834 | g_loss: 2.7597\n",
            "Epoch [   11/   15] | d_loss: 0.9345 | g_loss: 1.4285\n",
            "Epoch [   11/   15] | d_loss: 0.8152 | g_loss: 1.2888\n"
          ],
          "name": "stdout"
        },
        {
          "output_type": "stream",
          "text": [
            "Epoch [   11/   15] | d_loss: 0.8364 | g_loss: 1.6574\n",
            "Epoch [   11/   15] | d_loss: 1.0877 | g_loss: 3.1401\n",
            "Epoch [   11/   15] | d_loss: 1.3548 | g_loss: 0.7919\n",
            "Epoch [   11/   15] | d_loss: 1.0396 | g_loss: 0.9132\n",
            "Epoch [   11/   15] | d_loss: 0.8692 | g_loss: 1.7018\n",
            "Epoch [   11/   15] | d_loss: 0.8507 | g_loss: 1.2371\n",
            "Epoch [   11/   15] | d_loss: 1.1804 | g_loss: 1.0894\n",
            "Epoch [   11/   15] | d_loss: 0.7049 | g_loss: 1.6180\n",
            "Epoch [   11/   15] | d_loss: 0.9686 | g_loss: 1.1624\n",
            "Epoch [   11/   15] | d_loss: 0.7403 | g_loss: 1.8999\n",
            "Epoch [   11/   15] | d_loss: 0.8788 | g_loss: 2.2765\n",
            "Epoch [   11/   15] | d_loss: 1.0596 | g_loss: 2.1114\n",
            "Epoch [   11/   15] | d_loss: 0.7529 | g_loss: 2.4076\n",
            "Epoch [   12/   15] | d_loss: 1.4281 | g_loss: 0.6336\n",
            "Epoch [   12/   15] | d_loss: 1.1158 | g_loss: 0.9949\n",
            "Epoch [   12/   15] | d_loss: 1.0074 | g_loss: 0.9885\n",
            "Epoch [   12/   15] | d_loss: 1.2105 | g_loss: 0.8725\n",
            "Epoch [   12/   15] | d_loss: 1.1412 | g_loss: 2.0699\n",
            "Epoch [   12/   15] | d_loss: 1.1807 | g_loss: 2.7314\n",
            "Epoch [   12/   15] | d_loss: 2.0520 | g_loss: 0.6630\n",
            "Epoch [   12/   15] | d_loss: 1.0368 | g_loss: 1.4386\n",
            "Epoch [   12/   15] | d_loss: 1.3390 | g_loss: 0.7862\n",
            "Epoch [   12/   15] | d_loss: 0.8827 | g_loss: 1.5216\n",
            "Epoch [   12/   15] | d_loss: 0.7939 | g_loss: 1.2451\n",
            "Epoch [   12/   15] | d_loss: 1.1993 | g_loss: 3.2225\n",
            "Epoch [   12/   15] | d_loss: 0.9378 | g_loss: 1.0664\n",
            "Epoch [   12/   15] | d_loss: 0.8769 | g_loss: 1.9065\n",
            "Epoch [   12/   15] | d_loss: 0.9669 | g_loss: 0.9383\n",
            "Epoch [   13/   15] | d_loss: 1.0427 | g_loss: 2.9927\n",
            "Epoch [   13/   15] | d_loss: 1.0717 | g_loss: 1.5253\n",
            "Epoch [   13/   15] | d_loss: 0.9779 | g_loss: 0.6602\n",
            "Epoch [   13/   15] | d_loss: 0.9406 | g_loss: 1.0412\n",
            "Epoch [   13/   15] | d_loss: 0.9060 | g_loss: 1.9814\n",
            "Epoch [   13/   15] | d_loss: 0.9591 | g_loss: 1.2412\n",
            "Epoch [   13/   15] | d_loss: 0.7585 | g_loss: 1.4036\n",
            "Epoch [   13/   15] | d_loss: 0.7261 | g_loss: 2.1154\n",
            "Epoch [   13/   15] | d_loss: 0.8429 | g_loss: 1.5660\n",
            "Epoch [   13/   15] | d_loss: 0.8726 | g_loss: 1.3477\n",
            "Epoch [   13/   15] | d_loss: 0.6144 | g_loss: 1.6078\n",
            "Epoch [   13/   15] | d_loss: 1.1787 | g_loss: 2.2007\n",
            "Epoch [   13/   15] | d_loss: 0.7630 | g_loss: 1.3427\n",
            "Epoch [   13/   15] | d_loss: 0.6399 | g_loss: 1.5454\n",
            "Epoch [   13/   15] | d_loss: 0.8419 | g_loss: 1.2531\n",
            "Epoch [   14/   15] | d_loss: 0.9535 | g_loss: 2.1592\n",
            "Epoch [   14/   15] | d_loss: 0.7219 | g_loss: 2.1693\n",
            "Epoch [   14/   15] | d_loss: 0.9669 | g_loss: 2.0549\n",
            "Epoch [   14/   15] | d_loss: 0.7907 | g_loss: 2.0115\n",
            "Epoch [   14/   15] | d_loss: 0.9869 | g_loss: 3.1054\n",
            "Epoch [   14/   15] | d_loss: 0.6782 | g_loss: 2.1724\n",
            "Epoch [   14/   15] | d_loss: 1.6406 | g_loss: 0.6313\n",
            "Epoch [   14/   15] | d_loss: 1.5197 | g_loss: 4.1045\n",
            "Epoch [   14/   15] | d_loss: 0.9601 | g_loss: 2.1215\n",
            "Epoch [   14/   15] | d_loss: 0.8437 | g_loss: 2.6023\n",
            "Epoch [   14/   15] | d_loss: 0.8938 | g_loss: 2.3312\n",
            "Epoch [   14/   15] | d_loss: 1.2599 | g_loss: 3.9875\n",
            "Epoch [   14/   15] | d_loss: 0.7244 | g_loss: 1.7815\n",
            "Epoch [   14/   15] | d_loss: 0.5829 | g_loss: 1.3476\n",
            "Epoch [   14/   15] | d_loss: 0.7837 | g_loss: 2.3254\n",
            "Epoch [   15/   15] | d_loss: 0.5239 | g_loss: 2.3702\n",
            "Epoch [   15/   15] | d_loss: 1.0455 | g_loss: 3.4610\n",
            "Epoch [   15/   15] | d_loss: 0.7721 | g_loss: 1.9572\n",
            "Epoch [   15/   15] | d_loss: 0.6708 | g_loss: 2.3995\n",
            "Epoch [   15/   15] | d_loss: 0.7917 | g_loss: 2.3197\n",
            "Epoch [   15/   15] | d_loss: 0.8685 | g_loss: 2.5365\n",
            "Epoch [   15/   15] | d_loss: 0.8709 | g_loss: 2.0110\n",
            "Epoch [   15/   15] | d_loss: 1.3535 | g_loss: 1.3298\n",
            "Epoch [   15/   15] | d_loss: 0.8806 | g_loss: 2.5010\n",
            "Epoch [   15/   15] | d_loss: 0.9027 | g_loss: 1.4446\n",
            "Epoch [   15/   15] | d_loss: 0.7541 | g_loss: 1.7448\n",
            "Epoch [   15/   15] | d_loss: 0.9759 | g_loss: 1.3187\n",
            "Epoch [   15/   15] | d_loss: 0.8722 | g_loss: 2.6992\n",
            "Epoch [   15/   15] | d_loss: 0.9411 | g_loss: 2.8058\n",
            "Epoch [   15/   15] | d_loss: 0.7789 | g_loss: 1.6643\n"
          ],
          "name": "stdout"
        }
      ]
    },
    {
      "cell_type": "markdown",
      "metadata": {
        "collapsed": true,
        "id": "pl7CkhZg1KAa"
      },
      "source": [
        "## Training loss\n",
        "\n",
        "Plot the training losses for the generator and discriminator, recorded after each epoch."
      ]
    },
    {
      "cell_type": "code",
      "metadata": {
        "id": "eM1T6JJY1KAa",
        "outputId": "920dc95f-91c7-4d30-b3e0-d27ce3f14926"
      },
      "source": [
        "fig, ax = plt.subplots()\n",
        "losses = np.array(losses)\n",
        "plt.plot(losses.T[0], label='Discriminator', alpha=0.5)\n",
        "plt.plot(losses.T[1], label='Generator', alpha=0.5)\n",
        "plt.title(\"Training Losses\")\n",
        "plt.legend()"
      ],
      "execution_count": null,
      "outputs": [
        {
          "output_type": "execute_result",
          "data": {
            "text/plain": [
              "<matplotlib.legend.Legend at 0x7ff8985ab278>"
            ]
          },
          "metadata": {
            "tags": []
          },
          "execution_count": 34
        },
        {
          "output_type": "display_data",
          "data": {
            "image/png": "[encoded data removed]",
            "text/plain": [
              "<matplotlib.figure.Figure at 0x7ff89b84ca58>"
            ]
          },
          "metadata": {
            "tags": [],
            "needs_background": "light"
          }
        }
      ]
    },
    {
      "cell_type": "markdown",
      "metadata": {
        "collapsed": true,
        "id": "qjKdwSMm1KAa"
      },
      "source": [
        "## Generator samples from training\n",
        "\n",
        "View samples of images from the generator, and answer a question about the strengths and weaknesses of your trained models."
      ]
    },
    {
      "cell_type": "code",
      "metadata": {
        "id": "HMithVXQ1KAa"
      },
      "source": [
        "# helper function for viewing a list of passed in sample images\n",
        "def view_samples(epoch, samples):\n",
        "    fig, axes = plt.subplots(figsize=(16,4), nrows=2, ncols=8, sharey=True, sharex=True)\n",
        "    for ax, img in zip(axes.flatten(), samples[epoch]):\n",
        "        img = img.detach().cpu().numpy()\n",
        "        img = np.transpose(img, (1, 2, 0))\n",
        "        img = ((img + 1)*255 / (2)).astype(np.uint8)\n",
        "        ax.xaxis.set_visible(False)\n",
        "        ax.yaxis.set_visible(False)\n",
        "        im = ax.imshow(img.reshape((32,32,3)))"
      ],
      "execution_count": null,
      "outputs": []
    },
    {
      "cell_type": "code",
      "metadata": {
        "id": "H8Jov9aU1KAa"
      },
      "source": [
        "# Load samples from generator, taken while training\n",
        "with open('train_samples.pkl', 'rb') as f:\n",
        "    samples = pkl.load(f)"
      ],
      "execution_count": null,
      "outputs": []
    },
    {
      "cell_type": "code",
      "metadata": {
        "id": "d2JinUhC1KAb",
        "outputId": "6d95a84e-8745-47b2-a592-26643efd266f"
      },
      "source": [
        "_ = view_samples(-1, samples)"
      ],
      "execution_count": null,
      "outputs": [
        {
          "output_type": "display_data",
          "data": {
            "image/png": "[encoded data removed]",
            "text/plain": [
              "<matplotlib.figure.Figure at 0x7ff89b83fef0>"
            ]
          },
          "metadata": {
            "tags": [],
            "needs_background": "light"
          }
        }
      ]
    },
    {
      "cell_type": "markdown",
      "metadata": {
        "id": "NY9Q7UlT1KAb"
      },
      "source": [
        "### Question: What do you notice about your generated samples and how might you improve this model?\n",
        "When you answer this question, consider the following factors:\n",
        "* The dataset is biased; it is made of \"celebrity\" faces that are mostly white\n",
        "* Model size; larger models have the opportunity to learn more features in a data feature space\n",
        "* Optimization strategy; optimizers and number of epochs affect your final result\n"
      ]
    },
    {
      "cell_type": "markdown",
      "metadata": {
        "id": "zKJNPmgd1KAb"
      },
      "source": [
        "**Answer:** (Write your answer in this cell)\n",
        "1-The dataset is biased because all of them are celebrities and mostly white and the image angle is different , so if we take wide varieties of images with good resolution and same angle the performance can improve\n",
        "2-Adam is the best choice for GAN's as well as other architectures. And I think if I train with more number of epochs I will achieve better results"
      ]
    },
    {
      "cell_type": "markdown",
      "metadata": {
        "id": "wfVm-F2b1KAb"
      },
      "source": [
        "### Submitting This Project\n",
        "When submitting this project, make sure to run all the cells before saving the notebook. Save the notebook file as \"dlnd_face_generation.ipynb\" and save it as a HTML file under \"File\" -> \"Download as\". Include the \"problem_unittests.py\" files in your submission."
      ]
    }
  ]
}